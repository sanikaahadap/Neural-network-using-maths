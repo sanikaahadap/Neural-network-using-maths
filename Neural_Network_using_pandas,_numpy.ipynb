{
  "metadata": {
    "kernelspec": {
      "language": "python",
      "display_name": "Python 3",
      "name": "python3"
    },
    "language_info": {
      "name": "python",
      "version": "3.10.13",
      "mimetype": "text/x-python",
      "codemirror_mode": {
        "name": "ipython",
        "version": 3
      },
      "pygments_lexer": "ipython3",
      "nbconvert_exporter": "python",
      "file_extension": ".py"
    },
    "kaggle": {
      "accelerator": "none",
      "dataSources": [
        {
          "sourceId": 3004,
          "databundleVersionId": 861823,
          "sourceType": "competition"
        }
      ],
      "dockerImageVersionId": 30732,
      "isInternetEnabled": false,
      "language": "python",
      "sourceType": "notebook",
      "isGpuEnabled": false
    },
    "colab": {
      "name": "Neural Network using pandas, numpy",
      "provenance": [],
      "include_colab_link": true
    }
  },
  "nbformat_minor": 0,
  "nbformat": 4,
  "cells": [
    {
      "cell_type": "markdown",
      "metadata": {
        "id": "view-in-github",
        "colab_type": "text"
      },
      "source": [
        "<a href=\"https://colab.research.google.com/github/sanikaahadap/Neural-network-using-maths/blob/main/Neural_Network_using_pandas%2C_numpy.ipynb\" target=\"_parent\"><img src=\"https://colab.research.google.com/assets/colab-badge.svg\" alt=\"Open In Colab\"/></a>"
      ]
    },
    {
      "source": [
        "\n",
        "# IMPORTANT: RUN THIS CELL IN ORDER TO IMPORT YOUR KAGGLE DATA SOURCES\n",
        "# TO THE CORRECT LOCATION (/kaggle/input) IN YOUR NOTEBOOK,\n",
        "# THEN FEEL FREE TO DELETE THIS CELL.\n",
        "# NOTE: THIS NOTEBOOK ENVIRONMENT DIFFERS FROM KAGGLE'S PYTHON\n",
        "# ENVIRONMENT SO THERE MAY BE MISSING LIBRARIES USED BY YOUR\n",
        "# NOTEBOOK.\n",
        "\n",
        "import os\n",
        "import sys\n",
        "from tempfile import NamedTemporaryFile\n",
        "from urllib.request import urlopen\n",
        "from urllib.parse import unquote, urlparse\n",
        "from urllib.error import HTTPError\n",
        "from zipfile import ZipFile\n",
        "import tarfile\n",
        "import shutil\n",
        "\n",
        "CHUNK_SIZE = 40960\n",
        "DATA_SOURCE_MAPPING = 'digit-recognizer:https%3A%2F%2Fstorage.googleapis.com%2Fkaggle-competitions-data%2Fkaggle-v2%2F3004%2F861823%2Fbundle%2Farchive.zip%3FX-Goog-Algorithm%3DGOOG4-RSA-SHA256%26X-Goog-Credential%3Dgcp-kaggle-com%2540kaggle-161607.iam.gserviceaccount.com%252F20240615%252Fauto%252Fstorage%252Fgoog4_request%26X-Goog-Date%3D20240615T083309Z%26X-Goog-Expires%3D259200%26X-Goog-SignedHeaders%3Dhost%26X-Goog-Signature%3D2c667a03d11ee3caa75a998399a650c690e5f1dfcc5e89c9685fb65828ea6d457d29bca73a34cde806e55e3d6bdf058fec95b7e57efec38c81cc8424cc5973b71f0eada0ae3102dd432ea47988c6fb843e8273b1ffd3e7d121aa2103d0ca996673e5091600cddb37b89203c1ac4a92f812dbb07d5bcf6e0a2b9110616f4aa8cb7e58790188991b43efe0595322108bc144dd62d4abd236366d201014957d4e8f64782186223f29bdbaab4f1c51c68809d8edc94d1522a4735e7bcfb18b3befd253dc52c9f61b04e3ed12dd14323ca4e3e4b713a989c8892939cd6463a146f04d6fcbce71367ff573fc2d960a57c60e6ca84a74bb08773a3d3a53c6caebc9ac00'\n",
        "\n",
        "KAGGLE_INPUT_PATH='/kaggle/input'\n",
        "KAGGLE_WORKING_PATH='/kaggle/working'\n",
        "KAGGLE_SYMLINK='kaggle'\n",
        "\n",
        "!umount /kaggle/input/ 2> /dev/null\n",
        "shutil.rmtree('/kaggle/input', ignore_errors=True)\n",
        "os.makedirs(KAGGLE_INPUT_PATH, 0o777, exist_ok=True)\n",
        "os.makedirs(KAGGLE_WORKING_PATH, 0o777, exist_ok=True)\n",
        "\n",
        "try:\n",
        "  os.symlink(KAGGLE_INPUT_PATH, os.path.join(\"..\", 'input'), target_is_directory=True)\n",
        "except FileExistsError:\n",
        "  pass\n",
        "try:\n",
        "  os.symlink(KAGGLE_WORKING_PATH, os.path.join(\"..\", 'working'), target_is_directory=True)\n",
        "except FileExistsError:\n",
        "  pass\n",
        "\n",
        "for data_source_mapping in DATA_SOURCE_MAPPING.split(','):\n",
        "    directory, download_url_encoded = data_source_mapping.split(':')\n",
        "    download_url = unquote(download_url_encoded)\n",
        "    filename = urlparse(download_url).path\n",
        "    destination_path = os.path.join(KAGGLE_INPUT_PATH, directory)\n",
        "    try:\n",
        "        with urlopen(download_url) as fileres, NamedTemporaryFile() as tfile:\n",
        "            total_length = fileres.headers['content-length']\n",
        "            print(f'Downloading {directory}, {total_length} bytes compressed')\n",
        "            dl = 0\n",
        "            data = fileres.read(CHUNK_SIZE)\n",
        "            while len(data) > 0:\n",
        "                dl += len(data)\n",
        "                tfile.write(data)\n",
        "                done = int(50 * dl / int(total_length))\n",
        "                sys.stdout.write(f\"\\r[{'=' * done}{' ' * (50-done)}] {dl} bytes downloaded\")\n",
        "                sys.stdout.flush()\n",
        "                data = fileres.read(CHUNK_SIZE)\n",
        "            if filename.endswith('.zip'):\n",
        "              with ZipFile(tfile) as zfile:\n",
        "                zfile.extractall(destination_path)\n",
        "            else:\n",
        "              with tarfile.open(tfile.name) as tarfile:\n",
        "                tarfile.extractall(destination_path)\n",
        "            print(f'\\nDownloaded and uncompressed: {directory}')\n",
        "    except HTTPError as e:\n",
        "        print(f'Failed to load (likely expired) {download_url} to path {destination_path}')\n",
        "        continue\n",
        "    except OSError as e:\n",
        "        print(f'Failed to load {download_url} to path {destination_path}')\n",
        "        continue\n",
        "\n",
        "print('Data source import complete.')\n"
      ],
      "metadata": {
        "id": "ThHtkjFOCqE9",
        "outputId": "c0cec72a-b998-44ad-f3d7-6cc2dfecfb6a",
        "colab": {
          "base_uri": "https://localhost:8080/"
        }
      },
      "cell_type": "code",
      "outputs": [
        {
          "output_type": "stream",
          "name": "stdout",
          "text": [
            "Downloading digit-recognizer, 16054568 bytes compressed\n",
            "[==================================================] 16054568 bytes downloaded\n",
            "Downloaded and uncompressed: digit-recognizer\n",
            "Data source import complete.\n"
          ]
        }
      ],
      "execution_count": 15
    },
    {
      "cell_type": "raw",
      "source": [],
      "metadata": {
        "_uuid": "8f2839f25d086af736a60e9eeb907d3b93b6e0e5",
        "_cell_guid": "b1076dfc-b9ad-4769-8c92-a6c4dae69d19",
        "id": "LYnUL7oFCqFA"
      }
    },
    {
      "cell_type": "code",
      "source": [
        "import numpy as np\n",
        "import pandas as pd\n",
        "from matplotlib import pyplot as plt\n",
        "\n",
        "data = pd.read_csv('/kaggle/input/digit-recognizer/train.csv')"
      ],
      "metadata": {
        "execution": {
          "iopub.status.busy": "2024-06-15T08:20:19.550711Z",
          "iopub.execute_input": "2024-06-15T08:20:19.551158Z",
          "iopub.status.idle": "2024-06-15T08:20:22.92749Z",
          "shell.execute_reply.started": "2024-06-15T08:20:19.551123Z",
          "shell.execute_reply": "2024-06-15T08:20:22.926358Z"
        },
        "trusted": true,
        "id": "QZfYZFohCqFA"
      },
      "execution_count": 16,
      "outputs": []
    },
    {
      "cell_type": "code",
      "source": [
        "data = np.array(data)\n",
        "m, n = data.shape\n",
        "np.random.shuffle(data)"
      ],
      "metadata": {
        "execution": {
          "iopub.status.busy": "2024-06-15T08:20:24.238416Z",
          "iopub.execute_input": "2024-06-15T08:20:24.238914Z",
          "iopub.status.idle": "2024-06-15T08:20:25.017227Z",
          "shell.execute_reply.started": "2024-06-15T08:20:24.238875Z",
          "shell.execute_reply": "2024-06-15T08:20:25.01599Z"
        },
        "trusted": true,
        "id": "lbE3eTR4CqFA"
      },
      "execution_count": 17,
      "outputs": []
    },
    {
      "cell_type": "code",
      "source": [
        "data_dev = data[0:1000].T\n",
        "Y_dev = data_dev[0]\n",
        "X_dev = data_dev[1:n]\n",
        "X_dev = X_dev / 255.\n",
        "\n",
        "data_train = data[1000:m].T\n",
        "Y_train = data_train[0]\n",
        "X_train = data_train[1:n]\n",
        "X_train = X_train / 255.\n",
        "_,m_train = X_train.shape"
      ],
      "metadata": {
        "execution": {
          "iopub.status.busy": "2024-06-15T08:20:40.519639Z",
          "iopub.execute_input": "2024-06-15T08:20:40.520096Z",
          "iopub.status.idle": "2024-06-15T08:20:40.646254Z",
          "shell.execute_reply.started": "2024-06-15T08:20:40.520045Z",
          "shell.execute_reply": "2024-06-15T08:20:40.645063Z"
        },
        "trusted": true,
        "id": "cwfW2rtdCqFA"
      },
      "execution_count": 18,
      "outputs": []
    },
    {
      "cell_type": "code",
      "source": [
        "X_train"
      ],
      "metadata": {
        "execution": {
          "iopub.status.busy": "2024-06-15T08:21:39.368223Z",
          "iopub.execute_input": "2024-06-15T08:21:39.369361Z",
          "iopub.status.idle": "2024-06-15T08:21:39.378304Z",
          "shell.execute_reply.started": "2024-06-15T08:21:39.369316Z",
          "shell.execute_reply": "2024-06-15T08:21:39.376576Z"
        },
        "trusted": true,
        "id": "IlE1uiE0CqFB",
        "outputId": "d4441148-a4b3-421b-842d-9bdc71030478",
        "colab": {
          "base_uri": "https://localhost:8080/"
        }
      },
      "execution_count": 19,
      "outputs": [
        {
          "output_type": "execute_result",
          "data": {
            "text/plain": [
              "array([[0., 0., 0., ..., 0., 0., 0.],\n",
              "       [0., 0., 0., ..., 0., 0., 0.],\n",
              "       [0., 0., 0., ..., 0., 0., 0.],\n",
              "       ...,\n",
              "       [0., 0., 0., ..., 0., 0., 0.],\n",
              "       [0., 0., 0., ..., 0., 0., 0.],\n",
              "       [0., 0., 0., ..., 0., 0., 0.]])"
            ]
          },
          "metadata": {},
          "execution_count": 19
        }
      ]
    },
    {
      "cell_type": "code",
      "source": [
        "Y_train"
      ],
      "metadata": {
        "execution": {
          "iopub.status.busy": "2024-06-15T08:21:46.936052Z",
          "iopub.execute_input": "2024-06-15T08:21:46.937174Z",
          "iopub.status.idle": "2024-06-15T08:21:46.94516Z",
          "shell.execute_reply.started": "2024-06-15T08:21:46.937131Z",
          "shell.execute_reply": "2024-06-15T08:21:46.943822Z"
        },
        "trusted": true,
        "id": "rLDVGM1rCqFC",
        "outputId": "e74265a8-b6fb-4350-a6bf-5a8f26e782aa",
        "colab": {
          "base_uri": "https://localhost:8080/"
        }
      },
      "execution_count": 20,
      "outputs": [
        {
          "output_type": "execute_result",
          "data": {
            "text/plain": [
              "array([0, 2, 7, ..., 9, 3, 0])"
            ]
          },
          "metadata": {},
          "execution_count": 20
        }
      ]
    },
    {
      "cell_type": "code",
      "source": [
        "def init_params():\n",
        "    W1 = np.random.rand(10, 784) - 0.5\n",
        "    b1 = np.random.rand(10, 1) - 0.5\n",
        "    W2 = np.random.rand(10, 10) - 0.5\n",
        "    b2 = np.random.rand(10, 1) - 0.5\n",
        "    return W1, b1, W2, b2\n",
        "\n",
        "def ReLU(Z):\n",
        "    return np.maximum(Z, 0)\n",
        "\n",
        "def softmax(Z):\n",
        "    A = np.exp(Z) / sum(np.exp(Z))\n",
        "    return A\n",
        "\n",
        "def forward_prop(W1, b1, W2, b2, X):\n",
        "    Z1 = W1.dot(X) + b1\n",
        "    A1 = ReLU(Z1)\n",
        "    Z2 = W2.dot(A1) + b2\n",
        "    A2 = softmax(Z2)\n",
        "    return Z1, A1, Z2, A2\n"
      ],
      "metadata": {
        "execution": {
          "iopub.status.busy": "2024-06-15T08:22:51.94403Z",
          "iopub.execute_input": "2024-06-15T08:22:51.944622Z",
          "iopub.status.idle": "2024-06-15T08:22:51.956055Z",
          "shell.execute_reply.started": "2024-06-15T08:22:51.944576Z",
          "shell.execute_reply": "2024-06-15T08:22:51.954414Z"
        },
        "trusted": true,
        "id": "MzVpnKMLCqFC"
      },
      "execution_count": 21,
      "outputs": []
    },
    {
      "cell_type": "code",
      "source": [
        "def ReLU_deriv(Z):\n",
        "    return Z > 0\n",
        "\n",
        "def one_hot(Y):\n",
        "    one_hot_Y = np.zeros((Y.size, Y.max() + 1))\n",
        "    one_hot_Y[np.arange(Y.size), Y] = 1\n",
        "    one_hot_Y = one_hot_Y.T\n",
        "    return one_hot_Y"
      ],
      "metadata": {
        "execution": {
          "iopub.status.busy": "2024-06-15T08:23:06.604499Z",
          "iopub.execute_input": "2024-06-15T08:23:06.605065Z",
          "iopub.status.idle": "2024-06-15T08:23:06.612814Z",
          "shell.execute_reply.started": "2024-06-15T08:23:06.60502Z",
          "shell.execute_reply": "2024-06-15T08:23:06.611208Z"
        },
        "trusted": true,
        "id": "-XECFyndCqFC"
      },
      "execution_count": 22,
      "outputs": []
    },
    {
      "cell_type": "code",
      "source": [
        "def backward_prop(Z1, A1, Z2, A2, W1, W2, X, Y):\n",
        "    one_hot_Y = one_hot(Y)\n",
        "    dZ2 = A2 - one_hot_Y\n",
        "    dW2 = 1 / m * dZ2.dot(A1.T)\n",
        "    db2 = 1 / m * np.sum(dZ2)\n",
        "    dZ1 = W2.T.dot(dZ2) * ReLU_deriv(Z1)\n",
        "    dW1 = 1 / m * dZ1.dot(X.T)\n",
        "    db1 = 1 / m * np.sum(dZ1)\n",
        "    return dW1, db1, dW2, db2\n",
        "\n",
        "def update_params(W1, b1, W2, b2, dW1, db1, dW2, db2, alpha):\n",
        "    W1 = W1 - alpha * dW1\n",
        "    b1 = b1 - alpha * db1\n",
        "    W2 = W2 - alpha * dW2\n",
        "    b2 = b2 - alpha * db2\n",
        "    return W1, b1, W2, b2"
      ],
      "metadata": {
        "execution": {
          "iopub.status.busy": "2024-06-15T08:23:15.914308Z",
          "iopub.execute_input": "2024-06-15T08:23:15.915029Z",
          "iopub.status.idle": "2024-06-15T08:23:15.927959Z",
          "shell.execute_reply.started": "2024-06-15T08:23:15.914987Z",
          "shell.execute_reply": "2024-06-15T08:23:15.926226Z"
        },
        "trusted": true,
        "id": "9hQfu9OtCqFC"
      },
      "execution_count": 23,
      "outputs": []
    },
    {
      "cell_type": "code",
      "source": [
        "def get_predictions(A2):\n",
        "    return np.argmax(A2, 0)\n",
        "\n",
        "def get_accuracy(predictions, Y):\n",
        "    print(predictions, Y)\n",
        "    return np.sum(predictions == Y) / Y.size"
      ],
      "metadata": {
        "execution": {
          "iopub.status.busy": "2024-06-15T08:23:28.584241Z",
          "iopub.execute_input": "2024-06-15T08:23:28.585566Z",
          "iopub.status.idle": "2024-06-15T08:23:28.591165Z",
          "shell.execute_reply.started": "2024-06-15T08:23:28.58552Z",
          "shell.execute_reply": "2024-06-15T08:23:28.590027Z"
        },
        "trusted": true,
        "id": "TWj7NncDCqFD"
      },
      "execution_count": 24,
      "outputs": []
    },
    {
      "cell_type": "code",
      "source": [
        "def gradient_descent(X, Y, alpha, iterations):\n",
        "    W1, b1, W2, b2 = init_params()\n",
        "    for i in range(iterations):\n",
        "        Z1, A1, Z2, A2 = forward_prop(W1, b1, W2, b2, X)\n",
        "        dW1, db1, dW2, db2 = backward_prop(Z1, A1, Z2, A2, W1, W2, X, Y)\n",
        "        W1, b1, W2, b2 = update_params(W1, b1, W2, b2, dW1, db1, dW2, db2, alpha)\n",
        "        if i % 100 == 0:\n",
        "            print(\"Iteration: \", i)\n",
        "            predictions = get_predictions(A2)\n",
        "            print(get_accuracy(predictions, Y))\n",
        "    return W1, b1, W2, b2"
      ],
      "metadata": {
        "execution": {
          "iopub.status.busy": "2024-06-15T08:28:48.484241Z",
          "iopub.execute_input": "2024-06-15T08:28:48.484628Z",
          "iopub.status.idle": "2024-06-15T08:28:48.493484Z",
          "shell.execute_reply.started": "2024-06-15T08:28:48.484597Z",
          "shell.execute_reply": "2024-06-15T08:28:48.49228Z"
        },
        "trusted": true,
        "id": "feoWB7KhCqFD"
      },
      "execution_count": 25,
      "outputs": []
    },
    {
      "cell_type": "code",
      "source": [
        "W1, b1, W2, b2 = gradient_descent(X_train, Y_train, 0.10, 1000)"
      ],
      "metadata": {
        "execution": {
          "iopub.status.busy": "2024-06-15T08:28:50.804753Z",
          "iopub.execute_input": "2024-06-15T08:28:50.805201Z",
          "iopub.status.idle": "2024-06-15T08:30:53.431343Z",
          "shell.execute_reply.started": "2024-06-15T08:28:50.805168Z",
          "shell.execute_reply": "2024-06-15T08:30:53.42969Z"
        },
        "trusted": true,
        "id": "AhWowCG9CqFD",
        "outputId": "8f64a070-c859-443f-ea9c-3c54bbcb3930",
        "colab": {
          "base_uri": "https://localhost:8080/"
        }
      },
      "execution_count": 26,
      "outputs": [
        {
          "output_type": "stream",
          "name": "stdout",
          "text": [
            "Iteration:  0\n",
            "[8 7 9 ... 7 1 0] [0 2 7 ... 9 3 0]\n",
            "0.13560975609756099\n",
            "Iteration:  100\n",
            "[0 7 7 ... 4 3 0] [0 2 7 ... 9 3 0]\n",
            "0.566\n",
            "Iteration:  200\n",
            "[0 7 7 ... 4 3 0] [0 2 7 ... 9 3 0]\n",
            "0.7357560975609756\n",
            "Iteration:  300\n",
            "[0 9 7 ... 4 3 0] [0 2 7 ... 9 3 0]\n",
            "0.7925121951219513\n",
            "Iteration:  400\n",
            "[0 2 7 ... 4 3 0] [0 2 7 ... 9 3 0]\n",
            "0.8212195121951219\n",
            "Iteration:  500\n",
            "[0 2 7 ... 4 3 0] [0 2 7 ... 9 3 0]\n",
            "0.8385365853658536\n",
            "Iteration:  600\n",
            "[0 2 7 ... 4 3 0] [0 2 7 ... 9 3 0]\n",
            "0.8492926829268292\n",
            "Iteration:  700\n",
            "[0 2 7 ... 4 3 0] [0 2 7 ... 9 3 0]\n",
            "0.8562439024390244\n",
            "Iteration:  800\n",
            "[0 2 7 ... 4 3 0] [0 2 7 ... 9 3 0]\n",
            "0.8624146341463415\n",
            "Iteration:  900\n",
            "[0 2 7 ... 4 3 0] [0 2 7 ... 9 3 0]\n",
            "0.8671951219512195\n"
          ]
        }
      ]
    },
    {
      "cell_type": "code",
      "source": [
        "def make_predictions(X, W1, b1, W2, b2):\n",
        "    _, _, _, A2 = forward_prop(W1, b1, W2, b2, X)\n",
        "    predictions = get_predictions(A2)\n",
        "    return predictions\n",
        "\n",
        "def test_prediction(index, W1, b1, W2, b2):\n",
        "    current_image = X_train[:, index, None]\n",
        "    prediction = make_predictions(X_train[:, index, None], W1, b1, W2, b2)\n",
        "    label = Y_train[index]\n",
        "    print(\"Prediction: \", prediction)\n",
        "    print(\"Label: \", label)\n",
        "\n",
        "    current_image = current_image.reshape((28, 28)) * 255\n",
        "    plt.gray()\n",
        "    plt.imshow(current_image, interpolation='nearest')\n",
        "    plt.show()"
      ],
      "metadata": {
        "execution": {
          "iopub.status.busy": "2024-06-15T08:31:01.436734Z",
          "iopub.execute_input": "2024-06-15T08:31:01.437665Z",
          "iopub.status.idle": "2024-06-15T08:31:01.445894Z",
          "shell.execute_reply.started": "2024-06-15T08:31:01.437628Z",
          "shell.execute_reply": "2024-06-15T08:31:01.44464Z"
        },
        "trusted": true,
        "id": "-h1WVnx8CqFE"
      },
      "execution_count": 27,
      "outputs": []
    },
    {
      "cell_type": "code",
      "source": [
        "test_prediction(0, W1, b1, W2, b2)\n",
        "test_prediction(134, W1, b1, W2, b2)\n",
        "test_prediction(20, W1, b1, W2, b2)\n",
        "test_prediction(43, W1, b1, W2, b2)"
      ],
      "metadata": {
        "execution": {
          "iopub.status.busy": "2024-06-15T08:31:19.119553Z",
          "iopub.execute_input": "2024-06-15T08:31:19.119979Z",
          "iopub.status.idle": "2024-06-15T08:31:19.976196Z",
          "shell.execute_reply.started": "2024-06-15T08:31:19.119945Z",
          "shell.execute_reply": "2024-06-15T08:31:19.975023Z"
        },
        "trusted": true,
        "id": "93ZVulqkCqFE",
        "outputId": "e47fa93c-7d19-4caa-b76e-d1064a5d67a3",
        "colab": {
          "base_uri": "https://localhost:8080/",
          "height": 1000
        }
      },
      "execution_count": 28,
      "outputs": [
        {
          "output_type": "stream",
          "name": "stdout",
          "text": [
            "Prediction:  [0]\n",
            "Label:  0\n"
          ]
        },
        {
          "output_type": "display_data",
          "data": {
            "text/plain": [
              "<Figure size 640x480 with 1 Axes>"
            ],
            "image/png": "[encoded data removed]"
          },
          "metadata": {}
        },
        {
          "output_type": "stream",
          "name": "stdout",
          "text": [
            "Prediction:  [2]\n",
            "Label:  2\n"
          ]
        },
        {
          "output_type": "display_data",
          "data": {
            "text/plain": [
              "<Figure size 640x480 with 1 Axes>"
            ],
            "image/png": "[encoded data removed]"
          },
          "metadata": {}
        },
        {
          "output_type": "stream",
          "name": "stdout",
          "text": [
            "Prediction:  [7]\n",
            "Label:  7\n"
          ]
        },
        {
          "output_type": "display_data",
          "data": {
            "text/plain": [
              "<Figure size 640x480 with 1 Axes>"
            ],
            "image/png": "[encoded data removed]"
          },
          "metadata": {}
        },
        {
          "output_type": "stream",
          "name": "stdout",
          "text": [
            "Prediction:  [7]\n",
            "Label:  7\n"
          ]
        },
        {
          "output_type": "display_data",
          "data": {
            "text/plain": [
              "<Figure size 640x480 with 1 Axes>"
            ],
            "image/png": "[encoded data removed]"
          },
          "metadata": {}
        }
      ]
    }
  ]
}